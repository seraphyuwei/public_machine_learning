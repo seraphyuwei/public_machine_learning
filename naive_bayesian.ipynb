{
 "cells": [
  {
   "cell_type": "code",
   "execution_count": 1,
   "metadata": {
    "collapsed": true
   },
   "outputs": [],
   "source": [
    "import numpy as np\n",
    "training = np.asarray(((1,0,1,1),\n",
    "                       (1,1,0,0),\n",
    "                       (1,0,2,1),\n",
    "                       (0,1,1,1),\n",
    "                       (0,0,0,0),\n",
    "                       (0,1,2,1),\n",
    "                       (0,1,2,0),\n",
    "                       (1,1,1,1)));\n",
    "outcome = np.asarray((0,1,1,1,0,1,0,1))"
   ]
  },
  {
   "cell_type": "markdown",
   "metadata": {},
   "source": [
    "## We begin by calculating the prior probabilities of the two classes. We use a dictionary for the same."
   ]
  },
  {
   "cell_type": "code",
   "execution_count": 2,
   "metadata": {
    "collapsed": true
   },
   "outputs": [],
   "source": [
    "from collections import Counter,defaultdict\n",
    "def occurence(outcome):\n",
    "    prob = dict(Counter(outcome))\n",
    "    for key in prob.keys():\n",
    "        prob[key] = prob[key]/float(len(outcome))\n",
    "    return prob"
   ]
  },
  {
   "cell_type": "code",
   "execution_count": 3,
   "metadata": {
    "collapsed": false
   },
   "outputs": [],
   "source": [
    "prior_prob = occurence(outcome)"
   ]
  },
  {
   "cell_type": "code",
   "execution_count": 4,
   "metadata": {
    "collapsed": false
   },
   "outputs": [
    {
     "data": {
      "text/plain": [
       "{0: 0.375, 1: 0.625}"
      ]
     },
     "execution_count": 4,
     "metadata": {},
     "output_type": "execute_result"
    }
   ],
   "source": [
    "prior_prob"
   ]
  },
  {
   "cell_type": "markdown",
   "metadata": {},
   "source": [
    "## Now we need to count the occurrences of the features class-wise. For this, we again employ a dictionary and separate the vectors of the 2 classes, by looking at a subset of the training set, taking one class at a time."
   ]
  },
  {
   "cell_type": "code",
   "execution_count": 5,
   "metadata": {
    "collapsed": false
   },
   "outputs": [],
   "source": [
    "classes = np.unique(outcome)\n",
    "rows, cols = training.shape\n",
    "likelihoods = {}\n",
    "for cls in classes:\n",
    "    #initializing the dictionary\n",
    "    likelihoods[cls] = defaultdict(list)\n",
    "    \n",
    "for cls in classes:\n",
    "    #taking samples of only 1 class at a time\n",
    "    row_indices = np.where(outcome==cls)[0]\n",
    "    r,c = training[row_indices].shape\n",
    "    for j in range(0,c):\n",
    "        likelihoods[cls][j] += list(training[row_indices,j])"
   ]
  },
  {
   "cell_type": "code",
   "execution_count": 6,
   "metadata": {
    "collapsed": false
   },
   "outputs": [
    {
     "data": {
      "text/plain": [
       "{0: defaultdict(list,\n",
       "             {0: [1, 0, 0], 1: [0, 0, 1], 2: [1, 0, 2], 3: [1, 0, 0]}),\n",
       " 1: defaultdict(list,\n",
       "             {0: [1, 1, 0, 0, 1],\n",
       "              1: [1, 0, 1, 1, 1],\n",
       "              2: [0, 2, 1, 2, 1],\n",
       "              3: [0, 1, 1, 1, 1]})}"
      ]
     },
     "execution_count": 6,
     "metadata": {},
     "output_type": "execute_result"
    }
   ],
   "source": [
    "likelihoods"
   ]
  },
  {
   "cell_type": "markdown",
   "metadata": {},
   "source": [
    "For both the classes 0 and 1, and for each of the 4 features, we have thus saved the occurrences in likelihoods. For example, for the class 0 (no flu), and feature 1 (ie, runny nose), the occurrences are 0, 0 and 1. Now what remains is to calculate the probabilities, per class, per feature."
   ]
  },
  {
   "cell_type": "code",
   "execution_count": 7,
   "metadata": {
    "collapsed": false
   },
   "outputs": [],
   "source": [
    "for cls in classes:\n",
    "    for j in range(cols):\n",
    "        likelihoods[cls][j] = occurence(likelihoods[cls][j]) # need laplace transformation to avoid 0 multiplication"
   ]
  },
  {
   "cell_type": "code",
   "execution_count": 8,
   "metadata": {
    "collapsed": false
   },
   "outputs": [
    {
     "data": {
      "text/plain": [
       "{0: defaultdict(list,\n",
       "             {0: {0: 0.6666666666666666, 1: 0.3333333333333333},\n",
       "              1: {0: 0.6666666666666666, 1: 0.3333333333333333},\n",
       "              2: {0: 0.3333333333333333,\n",
       "               1: 0.3333333333333333,\n",
       "               2: 0.3333333333333333},\n",
       "              3: {0: 0.6666666666666666, 1: 0.3333333333333333}}),\n",
       " 1: defaultdict(list,\n",
       "             {0: {0: 0.4, 1: 0.6},\n",
       "              1: {0: 0.2, 1: 0.8},\n",
       "              2: {0: 0.2, 1: 0.4, 2: 0.4},\n",
       "              3: {0: 0.2, 1: 0.8}})}"
      ]
     },
     "execution_count": 8,
     "metadata": {},
     "output_type": "execute_result"
    }
   ],
   "source": [
    "likelihoods"
   ]
  },
  {
   "cell_type": "code",
   "execution_count": 9,
   "metadata": {
    "collapsed": true
   },
   "outputs": [],
   "source": [
    "new_sample = np.asarray((1,0,1,0))\n",
    "result = {}\n",
    "for cls in classes:\n",
    "    class_prob = prior_prob[cls]\n",
    "    for i in range(len(new_sample)):\n",
    "        cond_prob = likelihoods[cls][i]\n",
    "        if new_sample[i] in cond_prob.keys():\n",
    "            class_prob *= cond_prob[new_sample[i]]\n",
    "        else:\n",
    "            class_prob = 0 # this is no corresponding historical data\n",
    "    result[cls] = class_prob\n",
    "            \n",
    "        "
   ]
  },
  {
   "cell_type": "code",
   "execution_count": 10,
   "metadata": {
    "collapsed": false
   },
   "outputs": [
    {
     "data": {
      "text/plain": [
       "{0: 0.018518518518518517, 1: 0.006000000000000002}"
      ]
     },
     "execution_count": 10,
     "metadata": {},
     "output_type": "execute_result"
    }
   ],
   "source": [
    "result"
   ]
  },
  {
   "cell_type": "code",
   "execution_count": null,
   "metadata": {
    "collapsed": true
   },
   "outputs": [],
   "source": []
  }
 ],
 "metadata": {
  "anaconda-cloud": {},
  "kernelspec": {
   "display_name": "Python [conda root]",
   "language": "python",
   "name": "conda-root-py"
  },
  "language_info": {
   "codemirror_mode": {
    "name": "ipython",
    "version": 3
   },
   "file_extension": ".py",
   "mimetype": "text/x-python",
   "name": "python",
   "nbconvert_exporter": "python",
   "pygments_lexer": "ipython3",
   "version": "3.5.2"
  }
 },
 "nbformat": 4,
 "nbformat_minor": 1
}
